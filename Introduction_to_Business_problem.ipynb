{
 "cells": [
  {
   "cell_type": "markdown",
   "metadata": {
    "collapsed": true
   },
   "source": [
    "# <center> _Introduction into Business problem_ </center>\n",
    "\n",
    "## <center> _Real Estate Opportunities in Redding, CA_ </center>"
   ]
  },
  {
   "cell_type": "markdown",
   "metadata": {},
   "source": [
    "&nbsp;&nbsp; Redding is a small town in California, but it has its own tourist infrastructure. It is appealing place for Californians to come and spend some vacation time.\n",
    "The same as many other tourist cities it has a number of attractions and amenities:\n",
    "\n",
    "1. National park (Lassen)\n",
    "2. Amusement parks \n",
    "3. Restaurants\n",
    "4. Hotels and short term rentals"
   ]
  },
  {
   "cell_type": "markdown",
   "metadata": {},
   "source": [
    "Business problem is the actual real estate opportunity. The real estate price in a small town far away from Silicon Valley is more affordable. So the advantadge of investting in it is obvious. \n",
    "However we need to suggest potential investor the best cluster for buying property according to atractions they have."
   ]
  },
  {
   "cell_type": "markdown",
   "metadata": {},
   "source": [
    "It appears that short-tem rentals (such as AirBnB or VRBO) are far more profitable then regular long-term rental when it comes to small tourist cities. Therefore we would need to analyse venues of Redding city and find out what are the properties for sale and what are the best of them worth investing for further short-term rental. "
   ]
  }
 ],
 "metadata": {
  "kernelspec": {
   "display_name": "Python 3.7",
   "language": "python",
   "name": "python3"
  },
  "language_info": {
   "codemirror_mode": {
    "name": "ipython",
    "version": 3
   },
   "file_extension": ".py",
   "mimetype": "text/x-python",
   "name": "python",
   "nbconvert_exporter": "python",
   "pygments_lexer": "ipython3",
   "version": "3.7.9"
  }
 },
 "nbformat": 4,
 "nbformat_minor": 1
}
